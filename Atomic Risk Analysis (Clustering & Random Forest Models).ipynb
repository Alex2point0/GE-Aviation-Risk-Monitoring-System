{
 "cells": [
  {
   "cell_type": "markdown",
   "metadata": {},
   "source": [
    "## GE AVIATION ATOMIC RISKS ANALYSIS FOR BOTH TP/HIGH & NOTABLE ALERTS"
   ]
  },
  {
   "cell_type": "code",
   "execution_count": null,
   "metadata": {
    "collapsed": true
   },
   "outputs": [],
   "source": [
    "#Importing All the necessary libraries\n",
    "import pandas as pd\n",
    "import numpy as np\n",
    "from sklearn.cluster import KMeans\n",
    "from sklearn.preprocessing import LabelEncoder\n",
    "from sklearn.preprocessing import MinMaxScaler\n",
    "from sklearn.model_selection import train_test_split\n",
    "import seaborn as sns\n",
    "import matplotlib.pyplot as plt\n",
    "%matplotlib inline\n",
    "from scipy import stats\n",
    "from sklearn.cluster import KMeans \n",
    "from sklearn import metrics \n",
    "from scipy.spatial.distance import cdist \n",
    "from sklearn.cross_validation import train_test_split\n",
    "from sklearn.linear_model import LogisticRegression\n",
    "from sklearn import metrics\n",
    "from sklearn import tree\n",
    "import graphviz\n",
    "import os\n",
    "import warnings\n",
    "warnings.filterwarnings('ignore')\n",
    "from sklearn.ensemble import RandomForestRegressor\n",
    "from sklearn.ensemble import RandomForestClassifier\n",
    "from sklearn.model_selection import train_test_split\n",
    "from sklearn.metrics import classification_report, confusion_matrix, accuracy_score\n",
    "from sklearn.metrics import recall_score\n",
    "from imblearn.over_sampling import SMOTE"
   ]
  },
  {
   "cell_type": "code",
   "execution_count": 3,
   "metadata": {
    "collapsed": true
   },
   "outputs": [],
   "source": [
    "#Import datasets\n",
    "indicator_data = pd.read_csv('F:/Data Analytics-MS!/Integrated Experiential Learn/Week 5 & 6/indicator_pairs_data updated.csv')\n",
    "employee_data = pd.read_csv('F:/Data Analytics-MS!/Integrated Experiential Learn/Week 5 & 6/obfuscated_demo_data2.csv')"
   ]
  },
  {
   "cell_type": "code",
   "execution_count": 4,
   "metadata": {
    "collapsed": true
   },
   "outputs": [],
   "source": [
    "#Merging indicators and obfuscated employee data to cluster and model better\n",
    "merged_data = pd.merge(indicator_data, employee_data, on='employee_id', how = 'inner')"
   ]
  },
  {
   "cell_type": "code",
   "execution_count": 5,
   "metadata": {
    "collapsed": true
   },
   "outputs": [],
   "source": [
    "#Restricting to only atomic alerts\n",
    "condition = merged_data['alert_category']=='Atomic'\n",
    "merged_data = merged_data[condition]"
   ]
  },
  {
   "cell_type": "code",
   "execution_count": 6,
   "metadata": {},
   "outputs": [
    {
     "name": "stdout",
     "output_type": "stream",
     "text": [
      "alert_escalation_date       0\n",
      "alert_id_fk                 0\n",
      "insert_date                 0\n",
      "score                       0\n",
      "owner_name                105\n",
      "employee_id                 0\n",
      "risk_factor                 0\n",
      "avg_score                   0\n",
      "classification              0\n",
      "hru                         0\n",
      "alert_category              0\n",
      "alert_type                  0\n",
      "indicator_pairs             0\n",
      "person_type                 0\n",
      "person_status               0\n",
      "ge_hire_date             1121\n",
      "city                     1324\n",
      "state_name                738\n",
      "country_name              738\n",
      "function_group            738\n",
      "job_function                0\n",
      "career_band                 0\n",
      "industry_focus_name         0\n",
      "dtype: int64\n"
     ]
    }
   ],
   "source": [
    "#Checking for null values\n",
    "print(merged_data.isnull().sum())"
   ]
  },
  {
   "cell_type": "code",
   "execution_count": 7,
   "metadata": {
    "collapsed": true
   },
   "outputs": [],
   "source": [
    "#Creating a Tenure column and dropping the unnecessary columns\n",
    "\n",
    "merged_data['Dates'] = pd.to_datetime(merged_data['ge_hire_date']).dt.date\n",
    "merged_data['Time'] = pd.to_datetime(merged_data['ge_hire_date']).dt.time\n",
    "merged_data['year'] = pd.DatetimeIndex(merged_data['Dates']).year\n",
    "merged_data['Tenure'] = merged_data.apply(lambda row: 2020 - row.year, axis = 1) \n",
    "merged_data['year'] = merged_data['year'].fillna(0).astype(int)\n",
    "merged_data['Tenure'] = merged_data['Tenure'].fillna(0).astype(int)\n",
    "\n",
    "merged_data = merged_data.drop(['alert_id_fk', 'insert_date', 'employee_id', 'score', 'alert_escalation_date', 'ge_hire_date', 'city', 'state_name', 'country_name', 'alert_type', 'alert_category', 'risk_factor', 'avg_score', 'year', 'Time', 'Dates'], axis=1)"
   ]
  },
  {
   "cell_type": "code",
   "execution_count": 8,
   "metadata": {
    "collapsed": true
   },
   "outputs": [],
   "source": [
    "#Splitting Indicator Pairs column into multiple columns using delimiter '/'\n",
    "merged_data[['indicator_pairs', 'indicator_pairs1', 'indicator_pairs2', 'indicator_pairs3', 'indicator_pairs4', 'indicator_pairs5', 'indicator_pairs6', 'indicator_pairs7', 'indicator_pairs8']] = merged_data.indicator_pairs.str.split(\"/\",expand=True)"
   ]
  },
  {
   "cell_type": "code",
   "execution_count": 9,
   "metadata": {
    "collapsed": true
   },
   "outputs": [],
   "source": [
    "#Creating duplicate dataframes to work on HIGH and Notable Risks Separately\n",
    "High_Atomic_Alerts = merged_data.copy()\n",
    "Notable_Atomic_Alerts = merged_data.copy()\n",
    "#Duplicating Dataframes for Random Forest Models (RFM) of High & Notable Atomic Risks\n",
    "High_Atomic_RFM = merged_data.copy()\n",
    "Notable_Atomic_RFM = merged_data.copy()"
   ]
  },
  {
   "cell_type": "markdown",
   "metadata": {},
   "source": [
    "### CLUSTERING HIGH ATOMIC RISKS"
   ]
  },
  {
   "cell_type": "code",
   "execution_count": 10,
   "metadata": {
    "collapsed": true
   },
   "outputs": [],
   "source": [
    "#Performing one-hot encoding for clustering High Atomic Alerts and altering target variable accordingly\n",
    "High_Atomic_Alerts['classification'] = np.where((High_Atomic_Alerts['classification'] == 'TP/HIGH'), 1, 0)\n",
    "High_Atomic_Alerts = pd.get_dummies(High_Atomic_Alerts)"
   ]
  },
  {
   "cell_type": "code",
   "execution_count": 11,
   "metadata": {},
   "outputs": [
    {
     "data": {
      "image/png": "[encoded data removed]",
      "text/plain": [
       "<matplotlib.figure.Figure at 0x243f7e4e438>"
      ]
     },
     "metadata": {},
     "output_type": "display_data"
    }
   ],
   "source": [
    "#Plotting Elbow Plot\n",
    "mms = MinMaxScaler()\n",
    "mms.fit(High_Atomic_Alerts)\n",
    "data_transformed = mms.transform(High_Atomic_Alerts)\n",
    "\n",
    "Sum_of_squared_distances = []\n",
    "K = range(1,15)\n",
    "for k in K:\n",
    "    km = KMeans(n_clusters=k)\n",
    "    km = km.fit(data_transformed)\n",
    "    Sum_of_squared_distances.append(km.inertia_)\n",
    "\n",
    "plt.plot(K, Sum_of_squared_distances, 'bx-')\n",
    "plt.xlabel('k')\n",
    "plt.ylabel('Sum_of_squared_distances')\n",
    "plt.title('Elbow Method For Optimal k')\n",
    "plt.show()"
   ]
  },
  {
   "cell_type": "code",
   "execution_count": 12,
   "metadata": {},
   "outputs": [
    {
     "data": {
      "text/html": [
       "<div>\n",
       "<style>\n",
       "    .dataframe thead tr:only-child th {\n",
       "        text-align: right;\n",
       "    }\n",
       "\n",
       "    .dataframe thead th {\n",
       "        text-align: left;\n",
       "    }\n",
       "\n",
       "    .dataframe tbody tr th {\n",
       "        vertical-align: top;\n",
       "    }\n",
       "</style>\n",
       "<table border=\"1\" class=\"dataframe\">\n",
       "  <thead>\n",
       "    <tr style=\"text-align: right;\">\n",
       "      <th></th>\n",
       "      <th>classification</th>\n",
       "      <th>Tenure</th>\n",
       "      <th>owner_name_Analyst_1</th>\n",
       "      <th>owner_name_Analyst_4</th>\n",
       "      <th>owner_name_Analyst_5</th>\n",
       "      <th>owner_name_Analyst_6</th>\n",
       "      <th>owner_name_Analyst_7</th>\n",
       "      <th>owner_name_Analyst_8</th>\n",
       "      <th>owner_name_Senior_Analyst_1</th>\n",
       "      <th>owner_name_Senior_Analyst_2</th>\n",
       "      <th>...</th>\n",
       "      <th>indicator_pairs2_App_25_Atomic_TT_IND</th>\n",
       "      <th>indicator_pairs2_App_9_Atomic_DVD_Burn_IND</th>\n",
       "      <th>indicator_pairs2_Threshold_Heat_Email_IND</th>\n",
       "      <th>indicator_pairs3_App_27_Heat_USB_IND</th>\n",
       "      <th>indicator_pairs3_Threshold_Heat_Print_IND</th>\n",
       "      <th>indicator_pairs4_App_9_Heat_USB_IND</th>\n",
       "      <th>indicator_pairs5_Threshold_Heat_BA_IND</th>\n",
       "      <th>indicator_pairs6_Threshold_Heat_Email_IND</th>\n",
       "      <th>indicator_pairs7_Top_Users_Heat_Egress_IND</th>\n",
       "      <th>indicator_pairs8_Top_Users_Heat_USB_IND</th>\n",
       "    </tr>\n",
       "    <tr>\n",
       "      <th>clusters</th>\n",
       "      <th></th>\n",
       "      <th></th>\n",
       "      <th></th>\n",
       "      <th></th>\n",
       "      <th></th>\n",
       "      <th></th>\n",
       "      <th></th>\n",
       "      <th></th>\n",
       "      <th></th>\n",
       "      <th></th>\n",
       "      <th></th>\n",
       "      <th></th>\n",
       "      <th></th>\n",
       "      <th></th>\n",
       "      <th></th>\n",
       "      <th></th>\n",
       "      <th></th>\n",
       "      <th></th>\n",
       "      <th></th>\n",
       "      <th></th>\n",
       "      <th></th>\n",
       "    </tr>\n",
       "  </thead>\n",
       "  <tbody>\n",
       "    <tr>\n",
       "      <th>0</th>\n",
       "      <td>0.0</td>\n",
       "      <td>7.3</td>\n",
       "      <td>0.1</td>\n",
       "      <td>0.3</td>\n",
       "      <td>0.0</td>\n",
       "      <td>0.2</td>\n",
       "      <td>0.0</td>\n",
       "      <td>0.0</td>\n",
       "      <td>0.3</td>\n",
       "      <td>0.0</td>\n",
       "      <td>...</td>\n",
       "      <td>0.0</td>\n",
       "      <td>0.0</td>\n",
       "      <td>0.0</td>\n",
       "      <td>0.0</td>\n",
       "      <td>0.0</td>\n",
       "      <td>0.0</td>\n",
       "      <td>0.0</td>\n",
       "      <td>0.0</td>\n",
       "      <td>0.0</td>\n",
       "      <td>0.0</td>\n",
       "    </tr>\n",
       "    <tr>\n",
       "      <th>1</th>\n",
       "      <td>0.0</td>\n",
       "      <td>12.1</td>\n",
       "      <td>0.1</td>\n",
       "      <td>0.4</td>\n",
       "      <td>0.0</td>\n",
       "      <td>0.1</td>\n",
       "      <td>0.1</td>\n",
       "      <td>0.1</td>\n",
       "      <td>0.1</td>\n",
       "      <td>0.0</td>\n",
       "      <td>...</td>\n",
       "      <td>0.0</td>\n",
       "      <td>0.0</td>\n",
       "      <td>0.0</td>\n",
       "      <td>0.0</td>\n",
       "      <td>0.0</td>\n",
       "      <td>0.0</td>\n",
       "      <td>0.0</td>\n",
       "      <td>0.0</td>\n",
       "      <td>0.0</td>\n",
       "      <td>0.0</td>\n",
       "    </tr>\n",
       "    <tr>\n",
       "      <th>2</th>\n",
       "      <td>0.0</td>\n",
       "      <td>7.0</td>\n",
       "      <td>0.0</td>\n",
       "      <td>0.0</td>\n",
       "      <td>0.0</td>\n",
       "      <td>0.0</td>\n",
       "      <td>0.0</td>\n",
       "      <td>0.0</td>\n",
       "      <td>1.0</td>\n",
       "      <td>0.0</td>\n",
       "      <td>...</td>\n",
       "      <td>0.0</td>\n",
       "      <td>0.0</td>\n",
       "      <td>0.0</td>\n",
       "      <td>0.0</td>\n",
       "      <td>0.0</td>\n",
       "      <td>0.0</td>\n",
       "      <td>0.0</td>\n",
       "      <td>0.0</td>\n",
       "      <td>0.0</td>\n",
       "      <td>0.0</td>\n",
       "    </tr>\n",
       "    <tr>\n",
       "      <th>3</th>\n",
       "      <td>0.0</td>\n",
       "      <td>14.7</td>\n",
       "      <td>0.0</td>\n",
       "      <td>0.0</td>\n",
       "      <td>0.0</td>\n",
       "      <td>0.0</td>\n",
       "      <td>0.0</td>\n",
       "      <td>0.0</td>\n",
       "      <td>1.0</td>\n",
       "      <td>0.0</td>\n",
       "      <td>...</td>\n",
       "      <td>0.0</td>\n",
       "      <td>0.0</td>\n",
       "      <td>0.0</td>\n",
       "      <td>0.0</td>\n",
       "      <td>0.0</td>\n",
       "      <td>0.0</td>\n",
       "      <td>0.0</td>\n",
       "      <td>0.0</td>\n",
       "      <td>0.0</td>\n",
       "      <td>0.0</td>\n",
       "    </tr>\n",
       "  </tbody>\n",
       "</table>\n",
       "<p>4 rows × 114 columns</p>\n",
       "</div>"
      ],
      "text/plain": [
       "          classification  Tenure  owner_name_Analyst_1  owner_name_Analyst_4  \\\n",
       "clusters                                                                       \n",
       "0                    0.0     7.3                   0.1                   0.3   \n",
       "1                    0.0    12.1                   0.1                   0.4   \n",
       "2                    0.0     7.0                   0.0                   0.0   \n",
       "3                    0.0    14.7                   0.0                   0.0   \n",
       "\n",
       "          owner_name_Analyst_5  owner_name_Analyst_6  owner_name_Analyst_7  \\\n",
       "clusters                                                                     \n",
       "0                          0.0                   0.2                   0.0   \n",
       "1                          0.0                   0.1                   0.1   \n",
       "2                          0.0                   0.0                   0.0   \n",
       "3                          0.0                   0.0                   0.0   \n",
       "\n",
       "          owner_name_Analyst_8  owner_name_Senior_Analyst_1  \\\n",
       "clusters                                                      \n",
       "0                          0.0                          0.3   \n",
       "1                          0.1                          0.1   \n",
       "2                          0.0                          1.0   \n",
       "3                          0.0                          1.0   \n",
       "\n",
       "          owner_name_Senior_Analyst_2  \\\n",
       "clusters                                \n",
       "0                                 0.0   \n",
       "1                                 0.0   \n",
       "2                                 0.0   \n",
       "3                                 0.0   \n",
       "\n",
       "                           ...                     \\\n",
       "clusters                   ...                      \n",
       "0                          ...                      \n",
       "1                          ...                      \n",
       "2                          ...                      \n",
       "3                          ...                      \n",
       "\n",
       "          indicator_pairs2_App_25_Atomic_TT_IND  \\\n",
       "clusters                                          \n",
       "0                                           0.0   \n",
       "1                                           0.0   \n",
       "2                                           0.0   \n",
       "3                                           0.0   \n",
       "\n",
       "          indicator_pairs2_App_9_Atomic_DVD_Burn_IND  \\\n",
       "clusters                                               \n",
       "0                                                0.0   \n",
       "1                                                0.0   \n",
       "2                                                0.0   \n",
       "3                                                0.0   \n",
       "\n",
       "          indicator_pairs2_Threshold_Heat_Email_IND  \\\n",
       "clusters                                              \n",
       "0                                               0.0   \n",
       "1                                               0.0   \n",
       "2                                               0.0   \n",
       "3                                               0.0   \n",
       "\n",
       "          indicator_pairs3_App_27_Heat_USB_IND  \\\n",
       "clusters                                         \n",
       "0                                          0.0   \n",
       "1                                          0.0   \n",
       "2                                          0.0   \n",
       "3                                          0.0   \n",
       "\n",
       "          indicator_pairs3_Threshold_Heat_Print_IND  \\\n",
       "clusters                                              \n",
       "0                                               0.0   \n",
       "1                                               0.0   \n",
       "2                                               0.0   \n",
       "3                                               0.0   \n",
       "\n",
       "          indicator_pairs4_App_9_Heat_USB_IND  \\\n",
       "clusters                                        \n",
       "0                                         0.0   \n",
       "1                                         0.0   \n",
       "2                                         0.0   \n",
       "3                                         0.0   \n",
       "\n",
       "          indicator_pairs5_Threshold_Heat_BA_IND  \\\n",
       "clusters                                           \n",
       "0                                            0.0   \n",
       "1                                            0.0   \n",
       "2                                            0.0   \n",
       "3                                            0.0   \n",
       "\n",
       "          indicator_pairs6_Threshold_Heat_Email_IND  \\\n",
       "clusters                                              \n",
       "0                                               0.0   \n",
       "1                                               0.0   \n",
       "2                                               0.0   \n",
       "3                                               0.0   \n",
       "\n",
       "          indicator_pairs7_Top_Users_Heat_Egress_IND  \\\n",
       "clusters                                               \n",
       "0                                                0.0   \n",
       "1                                                0.0   \n",
       "2                                                0.0   \n",
       "3                                                0.0   \n",
       "\n",
       "          indicator_pairs8_Top_Users_Heat_USB_IND  \n",
       "clusters                                           \n",
       "0                                             0.0  \n",
       "1                                             0.0  \n",
       "2                                             0.0  \n",
       "3                                             0.0  \n",
       "\n",
       "[4 rows x 114 columns]"
      ]
     },
     "execution_count": 12,
     "metadata": {},
     "output_type": "execute_result"
    }
   ],
   "source": [
    "#K-Means Clustering for High Atomic Alerts\n",
    "kmeans = KMeans(n_clusters=4, random_state=0).fit(data_transformed)\n",
    "labels = kmeans.labels_\n",
    "\n",
    "High_Atomic_Alerts['clusters'] = labels\n",
    "\n",
    "kmeans_mean_cluster = pd.DataFrame(round(High_Atomic_Alerts.groupby('clusters').mean(),1))\n",
    "kmeans_mean_cluster"
   ]
  },
  {
   "cell_type": "markdown",
   "metadata": {},
   "source": [
    "### RANDOM FOREST MODEL FOR HIGH ATOMIC RISKS"
   ]
  },
  {
   "cell_type": "code",
   "execution_count": 14,
   "metadata": {},
   "outputs": [
    {
     "name": "stdout",
     "output_type": "stream",
     "text": [
      "[[23076    14]\n",
      " [   41    18]]\n",
      "             precision    recall  f1-score   support\n",
      "\n",
      "          0       1.00      1.00      1.00     23090\n",
      "          1       0.56      0.31      0.40        59\n",
      "\n",
      "avg / total       1.00      1.00      1.00     23149\n",
      "\n",
      "0.997624087434\n"
     ]
    }
   ],
   "source": [
    "#Performing Random Forest Modeling for High Atomic Alerts\n",
    "feature_cols = ['owner_name', 'hru', 'person_type', 'person_status', 'Tenure', 'function_group', 'career_band', 'job_function', 'industry_focus_name', 'indicator_pairs', 'indicator_pairs1', 'indicator_pairs2', 'indicator_pairs3', 'indicator_pairs4', 'indicator_pairs5', 'indicator_pairs6', 'indicator_pairs7', 'indicator_pairs8']\n",
    "High_Atomic_RFM['classification'] = np.where((High_Atomic_RFM['classification'] == 'TP/HIGH'), 1, 0)\n",
    "X1 = High_Atomic_RFM[feature_cols] # Features\n",
    "y1 = High_Atomic_RFM.classification #Target Variable\n",
    "\n",
    "#One-hot Encoding\n",
    "X1 = pd.get_dummies(X1)\n",
    "\n",
    "#Splitting into training and testing sets\n",
    "X_train,X_test,y_train,y_test = train_test_split(X1,y1,test_size=0.25,random_state=0)\n",
    "\n",
    "#Training the Algorithm\n",
    "classifier = RandomForestClassifier(n_estimators=20, random_state=0)\n",
    "classifier.fit(X_train, y_train)\n",
    "y_pred = classifier.predict(X_test)\n",
    "\n",
    "#Threshold = 0.5\n",
    "print(confusion_matrix(y_test,y_pred))\n",
    "print(classification_report(y_test,y_pred))\n",
    "print(accuracy_score(y_test, y_pred))"
   ]
  },
  {
   "cell_type": "code",
   "execution_count": 17,
   "metadata": {},
   "outputs": [
    {
     "name": "stdout",
     "output_type": "stream",
     "text": [
      "0.998012873126\n",
      "[[23058    32]\n",
      " [   14    45]]\n"
     ]
    }
   ],
   "source": [
    "#Altering Thresholds to find a Cost-Effective model \n",
    "\n",
    "threshold = 0.25\n",
    "\n",
    "predicted_proba = classifier.predict_proba(X_test)\n",
    "predicted = (predicted_proba [:,1] >= threshold).astype('int')\n",
    "\n",
    "accuracy = accuracy_score(y_test, predicted)\n",
    "print(accuracy)\n",
    "\n",
    "print(confusion_matrix(y_test,predicted))"
   ]
  },
  {
   "cell_type": "code",
   "execution_count": 18,
   "metadata": {},
   "outputs": [
    {
     "name": "stdout",
     "output_type": "stream",
     "text": [
      "0.997840079485\n",
      "[[23053    37]\n",
      " [   13    46]]\n"
     ]
    }
   ],
   "source": [
    "#Altering Thresholds to find a Cost-Effective model \n",
    "\n",
    "threshold = 0.167\n",
    "\n",
    "predicted_proba = classifier.predict_proba(X_test)\n",
    "predicted = (predicted_proba [:,1] >= threshold).astype('int')\n",
    "\n",
    "accuracy = accuracy_score(y_test, predicted)\n",
    "print(accuracy)\n",
    "\n",
    "print(confusion_matrix(y_test,predicted))"
   ]
  },
  {
   "cell_type": "code",
   "execution_count": 19,
   "metadata": {},
   "outputs": [
    {
     "name": "stdout",
     "output_type": "stream",
     "text": [
      "0.996112143073\n",
      "[[23009    81]\n",
      " [    9    50]]\n"
     ]
    }
   ],
   "source": [
    "#Altering Thresholds to find a Cost-Effective model \n",
    "\n",
    "threshold = 0.023\n",
    "\n",
    "predicted_proba = classifier.predict_proba(X_test)\n",
    "predicted = (predicted_proba [:,1] >= threshold).astype('int')\n",
    "\n",
    "accuracy = accuracy_score(y_test, predicted)\n",
    "print(accuracy)\n",
    "\n",
    "print(confusion_matrix(y_test,predicted))"
   ]
  },
  {
   "cell_type": "code",
   "execution_count": 20,
   "metadata": {},
   "outputs": [
    {
     "name": "stdout",
     "output_type": "stream",
     "text": [
      "0.995204976457\n",
      "[[22986   104]\n",
      " [    7    52]]\n"
     ]
    }
   ],
   "source": [
    "#Altering Thresholds to find a Cost-Effective model \n",
    "\n",
    "threshold = 0.001\n",
    "\n",
    "predicted_proba = classifier.predict_proba(X_test)\n",
    "predicted = (predicted_proba [:,1] >= threshold).astype('int')\n",
    "\n",
    "accuracy = accuracy_score(y_test, predicted)\n",
    "print(accuracy)\n",
    "\n",
    "print(confusion_matrix(y_test,predicted))"
   ]
  },
  {
   "cell_type": "markdown",
   "metadata": {},
   "source": [
    "### CLUSTERING NOTABLE ATOMIC RISKS"
   ]
  },
  {
   "cell_type": "code",
   "execution_count": 21,
   "metadata": {
    "collapsed": true
   },
   "outputs": [],
   "source": [
    "#Performing one-hot encoding for clustering Notable Atomic Alerts and altering target variable accordingly\n",
    "Notable_Atomic_Alerts['classification'] = np.where(((Notable_Atomic_Alerts['classification'] == 'TP/HIGH') | (Notable_Atomic_Alerts['classification'] == 'TP/LOW')), 1, 0)\n",
    "Notable_Atomic_Alerts = pd.get_dummies(Notable_Atomic_Alerts)"
   ]
  },
  {
   "cell_type": "code",
   "execution_count": 22,
   "metadata": {},
   "outputs": [
    {
     "data": {
      "image/png": "[encoded data removed]",
      "text/plain": [
       "<matplotlib.figure.Figure at 0x243825fc0b8>"
      ]
     },
     "metadata": {},
     "output_type": "display_data"
    }
   ],
   "source": [
    "#Plotting Elbow Plot\n",
    "mms2 = MinMaxScaler()\n",
    "mms2.fit(Notable_Atomic_Alerts)\n",
    "data_transformed2 = mms2.transform(Notable_Atomic_Alerts)\n",
    "\n",
    "Sum_of_squared_distances = []\n",
    "K = range(1,15)\n",
    "for k in K:\n",
    "    km = KMeans(n_clusters=k)\n",
    "    km = km.fit(data_transformed2)\n",
    "    Sum_of_squared_distances.append(km.inertia_)\n",
    "\n",
    "plt.plot(K, Sum_of_squared_distances, 'bx-')\n",
    "plt.xlabel('k')\n",
    "plt.ylabel('Sum_of_squared_distances')\n",
    "plt.title('Elbow Method For Optimal k')\n",
    "plt.show()"
   ]
  },
  {
   "cell_type": "code",
   "execution_count": 23,
   "metadata": {},
   "outputs": [
    {
     "data": {
      "text/html": [
       "<div>\n",
       "<style>\n",
       "    .dataframe thead tr:only-child th {\n",
       "        text-align: right;\n",
       "    }\n",
       "\n",
       "    .dataframe thead th {\n",
       "        text-align: left;\n",
       "    }\n",
       "\n",
       "    .dataframe tbody tr th {\n",
       "        vertical-align: top;\n",
       "    }\n",
       "</style>\n",
       "<table border=\"1\" class=\"dataframe\">\n",
       "  <thead>\n",
       "    <tr style=\"text-align: right;\">\n",
       "      <th></th>\n",
       "      <th>classification</th>\n",
       "      <th>Tenure</th>\n",
       "      <th>owner_name_Analyst_1</th>\n",
       "      <th>owner_name_Analyst_4</th>\n",
       "      <th>owner_name_Analyst_5</th>\n",
       "      <th>owner_name_Analyst_6</th>\n",
       "      <th>owner_name_Analyst_7</th>\n",
       "      <th>owner_name_Analyst_8</th>\n",
       "      <th>owner_name_Senior_Analyst_1</th>\n",
       "      <th>owner_name_Senior_Analyst_2</th>\n",
       "      <th>...</th>\n",
       "      <th>indicator_pairs2_App_25_Atomic_TT_IND</th>\n",
       "      <th>indicator_pairs2_App_9_Atomic_DVD_Burn_IND</th>\n",
       "      <th>indicator_pairs2_Threshold_Heat_Email_IND</th>\n",
       "      <th>indicator_pairs3_App_27_Heat_USB_IND</th>\n",
       "      <th>indicator_pairs3_Threshold_Heat_Print_IND</th>\n",
       "      <th>indicator_pairs4_App_9_Heat_USB_IND</th>\n",
       "      <th>indicator_pairs5_Threshold_Heat_BA_IND</th>\n",
       "      <th>indicator_pairs6_Threshold_Heat_Email_IND</th>\n",
       "      <th>indicator_pairs7_Top_Users_Heat_Egress_IND</th>\n",
       "      <th>indicator_pairs8_Top_Users_Heat_USB_IND</th>\n",
       "    </tr>\n",
       "    <tr>\n",
       "      <th>clusters</th>\n",
       "      <th></th>\n",
       "      <th></th>\n",
       "      <th></th>\n",
       "      <th></th>\n",
       "      <th></th>\n",
       "      <th></th>\n",
       "      <th></th>\n",
       "      <th></th>\n",
       "      <th></th>\n",
       "      <th></th>\n",
       "      <th></th>\n",
       "      <th></th>\n",
       "      <th></th>\n",
       "      <th></th>\n",
       "      <th></th>\n",
       "      <th></th>\n",
       "      <th></th>\n",
       "      <th></th>\n",
       "      <th></th>\n",
       "      <th></th>\n",
       "      <th></th>\n",
       "    </tr>\n",
       "  </thead>\n",
       "  <tbody>\n",
       "    <tr>\n",
       "      <th>0</th>\n",
       "      <td>0.0</td>\n",
       "      <td>7.3</td>\n",
       "      <td>0.1</td>\n",
       "      <td>0.3</td>\n",
       "      <td>0.0</td>\n",
       "      <td>0.2</td>\n",
       "      <td>0.0</td>\n",
       "      <td>0.0</td>\n",
       "      <td>0.3</td>\n",
       "      <td>0.0</td>\n",
       "      <td>...</td>\n",
       "      <td>0.0</td>\n",
       "      <td>0.0</td>\n",
       "      <td>0.0</td>\n",
       "      <td>0.0</td>\n",
       "      <td>0.0</td>\n",
       "      <td>0.0</td>\n",
       "      <td>0.0</td>\n",
       "      <td>0.0</td>\n",
       "      <td>0.0</td>\n",
       "      <td>0.0</td>\n",
       "    </tr>\n",
       "    <tr>\n",
       "      <th>1</th>\n",
       "      <td>0.1</td>\n",
       "      <td>12.1</td>\n",
       "      <td>0.1</td>\n",
       "      <td>0.4</td>\n",
       "      <td>0.0</td>\n",
       "      <td>0.1</td>\n",
       "      <td>0.1</td>\n",
       "      <td>0.1</td>\n",
       "      <td>0.1</td>\n",
       "      <td>0.0</td>\n",
       "      <td>...</td>\n",
       "      <td>0.0</td>\n",
       "      <td>0.0</td>\n",
       "      <td>0.0</td>\n",
       "      <td>0.0</td>\n",
       "      <td>0.0</td>\n",
       "      <td>0.0</td>\n",
       "      <td>0.0</td>\n",
       "      <td>0.0</td>\n",
       "      <td>0.0</td>\n",
       "      <td>0.0</td>\n",
       "    </tr>\n",
       "    <tr>\n",
       "      <th>2</th>\n",
       "      <td>0.0</td>\n",
       "      <td>7.0</td>\n",
       "      <td>0.0</td>\n",
       "      <td>0.0</td>\n",
       "      <td>0.0</td>\n",
       "      <td>0.0</td>\n",
       "      <td>0.0</td>\n",
       "      <td>0.0</td>\n",
       "      <td>1.0</td>\n",
       "      <td>0.0</td>\n",
       "      <td>...</td>\n",
       "      <td>0.0</td>\n",
       "      <td>0.0</td>\n",
       "      <td>0.0</td>\n",
       "      <td>0.0</td>\n",
       "      <td>0.0</td>\n",
       "      <td>0.0</td>\n",
       "      <td>0.0</td>\n",
       "      <td>0.0</td>\n",
       "      <td>0.0</td>\n",
       "      <td>0.0</td>\n",
       "    </tr>\n",
       "    <tr>\n",
       "      <th>3</th>\n",
       "      <td>0.0</td>\n",
       "      <td>14.7</td>\n",
       "      <td>0.0</td>\n",
       "      <td>0.0</td>\n",
       "      <td>0.0</td>\n",
       "      <td>0.0</td>\n",
       "      <td>0.0</td>\n",
       "      <td>0.0</td>\n",
       "      <td>1.0</td>\n",
       "      <td>0.0</td>\n",
       "      <td>...</td>\n",
       "      <td>0.0</td>\n",
       "      <td>0.0</td>\n",
       "      <td>0.0</td>\n",
       "      <td>0.0</td>\n",
       "      <td>0.0</td>\n",
       "      <td>0.0</td>\n",
       "      <td>0.0</td>\n",
       "      <td>0.0</td>\n",
       "      <td>0.0</td>\n",
       "      <td>0.0</td>\n",
       "    </tr>\n",
       "  </tbody>\n",
       "</table>\n",
       "<p>4 rows × 114 columns</p>\n",
       "</div>"
      ],
      "text/plain": [
       "          classification  Tenure  owner_name_Analyst_1  owner_name_Analyst_4  \\\n",
       "clusters                                                                       \n",
       "0                    0.0     7.3                   0.1                   0.3   \n",
       "1                    0.1    12.1                   0.1                   0.4   \n",
       "2                    0.0     7.0                   0.0                   0.0   \n",
       "3                    0.0    14.7                   0.0                   0.0   \n",
       "\n",
       "          owner_name_Analyst_5  owner_name_Analyst_6  owner_name_Analyst_7  \\\n",
       "clusters                                                                     \n",
       "0                          0.0                   0.2                   0.0   \n",
       "1                          0.0                   0.1                   0.1   \n",
       "2                          0.0                   0.0                   0.0   \n",
       "3                          0.0                   0.0                   0.0   \n",
       "\n",
       "          owner_name_Analyst_8  owner_name_Senior_Analyst_1  \\\n",
       "clusters                                                      \n",
       "0                          0.0                          0.3   \n",
       "1                          0.1                          0.1   \n",
       "2                          0.0                          1.0   \n",
       "3                          0.0                          1.0   \n",
       "\n",
       "          owner_name_Senior_Analyst_2  \\\n",
       "clusters                                \n",
       "0                                 0.0   \n",
       "1                                 0.0   \n",
       "2                                 0.0   \n",
       "3                                 0.0   \n",
       "\n",
       "                           ...                     \\\n",
       "clusters                   ...                      \n",
       "0                          ...                      \n",
       "1                          ...                      \n",
       "2                          ...                      \n",
       "3                          ...                      \n",
       "\n",
       "          indicator_pairs2_App_25_Atomic_TT_IND  \\\n",
       "clusters                                          \n",
       "0                                           0.0   \n",
       "1                                           0.0   \n",
       "2                                           0.0   \n",
       "3                                           0.0   \n",
       "\n",
       "          indicator_pairs2_App_9_Atomic_DVD_Burn_IND  \\\n",
       "clusters                                               \n",
       "0                                                0.0   \n",
       "1                                                0.0   \n",
       "2                                                0.0   \n",
       "3                                                0.0   \n",
       "\n",
       "          indicator_pairs2_Threshold_Heat_Email_IND  \\\n",
       "clusters                                              \n",
       "0                                               0.0   \n",
       "1                                               0.0   \n",
       "2                                               0.0   \n",
       "3                                               0.0   \n",
       "\n",
       "          indicator_pairs3_App_27_Heat_USB_IND  \\\n",
       "clusters                                         \n",
       "0                                          0.0   \n",
       "1                                          0.0   \n",
       "2                                          0.0   \n",
       "3                                          0.0   \n",
       "\n",
       "          indicator_pairs3_Threshold_Heat_Print_IND  \\\n",
       "clusters                                              \n",
       "0                                               0.0   \n",
       "1                                               0.0   \n",
       "2                                               0.0   \n",
       "3                                               0.0   \n",
       "\n",
       "          indicator_pairs4_App_9_Heat_USB_IND  \\\n",
       "clusters                                        \n",
       "0                                         0.0   \n",
       "1                                         0.0   \n",
       "2                                         0.0   \n",
       "3                                         0.0   \n",
       "\n",
       "          indicator_pairs5_Threshold_Heat_BA_IND  \\\n",
       "clusters                                           \n",
       "0                                            0.0   \n",
       "1                                            0.0   \n",
       "2                                            0.0   \n",
       "3                                            0.0   \n",
       "\n",
       "          indicator_pairs6_Threshold_Heat_Email_IND  \\\n",
       "clusters                                              \n",
       "0                                               0.0   \n",
       "1                                               0.0   \n",
       "2                                               0.0   \n",
       "3                                               0.0   \n",
       "\n",
       "          indicator_pairs7_Top_Users_Heat_Egress_IND  \\\n",
       "clusters                                               \n",
       "0                                                0.0   \n",
       "1                                                0.0   \n",
       "2                                                0.0   \n",
       "3                                                0.0   \n",
       "\n",
       "          indicator_pairs8_Top_Users_Heat_USB_IND  \n",
       "clusters                                           \n",
       "0                                             0.0  \n",
       "1                                             0.0  \n",
       "2                                             0.0  \n",
       "3                                             0.0  \n",
       "\n",
       "[4 rows x 114 columns]"
      ]
     },
     "execution_count": 23,
     "metadata": {},
     "output_type": "execute_result"
    }
   ],
   "source": [
    "#K-Means Clustering for Notable Atomic Alerts\n",
    "kmeans = KMeans(n_clusters=4, random_state=0).fit(data_transformed2)\n",
    "labels = kmeans.labels_\n",
    "\n",
    "Notable_Atomic_Alerts['clusters'] = labels\n",
    "\n",
    "kmeans_mean_cluster = pd.DataFrame(round(Notable_Atomic_Alerts.groupby('clusters').mean(),1))\n",
    "kmeans_mean_cluster"
   ]
  },
  {
   "cell_type": "markdown",
   "metadata": {},
   "source": [
    "### RANDOM FOREST MODEL FOR NOTABLE ATOMIC RISKS"
   ]
  },
  {
   "cell_type": "code",
   "execution_count": 24,
   "metadata": {},
   "outputs": [
    {
     "name": "stdout",
     "output_type": "stream",
     "text": [
      "[[22253   207]\n",
      " [  226   463]]\n",
      "             precision    recall  f1-score   support\n",
      "\n",
      "          0       0.99      0.99      0.99     22460\n",
      "          1       0.69      0.67      0.68       689\n",
      "\n",
      "avg / total       0.98      0.98      0.98     23149\n",
      "\n",
      "0.981295088341\n"
     ]
    }
   ],
   "source": [
    "#Performing Random Forest Modeling for Notable Atomic Alerts\n",
    "#split dataset in features and target variable\n",
    "feature_cols = ['owner_name', 'hru', 'person_type', 'person_status', 'Tenure', 'function_group', 'career_band', 'job_function', 'industry_focus_name', 'indicator_pairs', 'indicator_pairs1', 'indicator_pairs2', 'indicator_pairs3', 'indicator_pairs4', 'indicator_pairs5', 'indicator_pairs6', 'indicator_pairs7', 'indicator_pairs8']\n",
    "Notable_Atomic_RFM['classification'] = np.where(((Notable_Atomic_RFM['classification'] == 'TP/HIGH') | (Notable_Atomic_RFM['classification'] == 'TP/LOW')), 1, 0)\n",
    "X2 = Notable_Atomic_RFM[feature_cols] # Features\n",
    "y2 = Notable_Atomic_RFM.classification #Target Variable\n",
    "\n",
    "#One-hot Encoding\n",
    "X2 = pd.get_dummies(X2)\n",
    "\n",
    "#Splitting into training and testing sets\n",
    "X_train2,X_test2,y_train2,y_test2 = train_test_split(X2,y2,test_size=0.25,random_state=0)\n",
    "\n",
    "#Training the Algorithm\n",
    "classifier2 = RandomForestClassifier(n_estimators=20, random_state=0)\n",
    "classifier2.fit(X_train2, y_train2)\n",
    "y_pred2 = classifier2.predict(X_test2)\n",
    "\n",
    "#Threshold = 0.5\n",
    "print(confusion_matrix(y_test2,y_pred2))\n",
    "print(classification_report(y_test2,y_pred2))\n",
    "print(accuracy_score(y_test2, y_pred2))"
   ]
  },
  {
   "cell_type": "code",
   "execution_count": 27,
   "metadata": {},
   "outputs": [
    {
     "name": "stdout",
     "output_type": "stream",
     "text": [
      "0.981035897879\n",
      "[[22106   354]\n",
      " [   85   604]]\n"
     ]
    }
   ],
   "source": [
    "#Altering Thresholds to find a Cost-Effective model \n",
    "\n",
    "threshold = 0.25\n",
    "\n",
    "predicted_proba = classifier2.predict_proba(X_test2)\n",
    "predicted = (predicted_proba [:,1] >= threshold).astype('int')\n",
    "\n",
    "accuracy = accuracy_score(y_test2, predicted)\n",
    "print(accuracy)\n",
    "\n",
    "print(confusion_matrix(y_test2,predicted))"
   ]
  },
  {
   "cell_type": "code",
   "execution_count": 28,
   "metadata": {},
   "outputs": [
    {
     "name": "stdout",
     "output_type": "stream",
     "text": [
      "0.970884271459\n",
      "[[21821   639]\n",
      " [   35   654]]\n"
     ]
    }
   ],
   "source": [
    "#Altering Thresholds to find a Cost-Effective model \n",
    "\n",
    "threshold = 0.167\n",
    "\n",
    "predicted_proba = classifier2.predict_proba(X_test2)\n",
    "predicted = (predicted_proba [:,1] >= threshold).astype('int')\n",
    "\n",
    "accuracy = accuracy_score(y_test2, predicted)\n",
    "print(accuracy)\n",
    "\n",
    "print(confusion_matrix(y_test2,predicted))"
   ]
  },
  {
   "cell_type": "code",
   "execution_count": 29,
   "metadata": {},
   "outputs": [
    {
     "name": "stdout",
     "output_type": "stream",
     "text": [
      "0.95947989114\n",
      "[[21538   922]\n",
      " [   16   673]]\n"
     ]
    }
   ],
   "source": [
    "#Altering Thresholds to find a Cost-Effective model \n",
    "\n",
    "threshold = 0.023\n",
    "\n",
    "predicted_proba = classifier2.predict_proba(X_test2)\n",
    "predicted = (predicted_proba [:,1] >= threshold).astype('int')\n",
    "\n",
    "accuracy = accuracy_score(y_test2, predicted)\n",
    "print(accuracy)\n",
    "\n",
    "print(confusion_matrix(y_test2,predicted))"
   ]
  },
  {
   "cell_type": "code",
   "execution_count": 30,
   "metadata": {},
   "outputs": [
    {
     "name": "stdout",
     "output_type": "stream",
     "text": [
      "0.958356732472\n",
      "[[21510   950]\n",
      " [   14   675]]\n"
     ]
    }
   ],
   "source": [
    "#Altering Thresholds to find a Cost-Effective model \n",
    "\n",
    "threshold = 0.001\n",
    "\n",
    "predicted_proba = classifier2.predict_proba(X_test2)\n",
    "predicted = (predicted_proba [:,1] >= threshold).astype('int')\n",
    "\n",
    "accuracy = accuracy_score(y_test2, predicted)\n",
    "print(accuracy)\n",
    "\n",
    "print(confusion_matrix(y_test2,predicted))"
   ]
  },
  {
   "cell_type": "code",
   "execution_count": null,
   "metadata": {
    "collapsed": true
   },
   "outputs": [],
   "source": []
  }
 ],
 "metadata": {
  "kernelspec": {
   "display_name": "Python 3",
   "language": "python",
   "name": "python3"
  },
  "language_info": {
   "codemirror_mode": {
    "name": "ipython",
    "version": 3
   },
   "file_extension": ".py",
   "mimetype": "text/x-python",
   "name": "python",
   "nbconvert_exporter": "python",
   "pygments_lexer": "ipython3",
   "version": "3.6.3"
  }
 },
 "nbformat": 4,
 "nbformat_minor": 2
}
